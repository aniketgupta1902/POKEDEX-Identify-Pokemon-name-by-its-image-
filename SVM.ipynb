{
 "cells": [
  {
   "cell_type": "code",
   "execution_count": 52,
   "metadata": {},
   "outputs": [],
   "source": [
    "import matplotlib.pyplot as plt\n",
    "import numpy as np\n",
    "import os\n",
    "from keras.preprocessing import image\n",
    "from pathlib import Path\n",
    "import pandas as pd"
   ]
  },
  {
   "cell_type": "code",
   "execution_count": 53,
   "metadata": {
    "scrolled": false
   },
   "outputs": [],
   "source": [
    "p=Path(\"./POKE DEX SVM/Images\")\n",
    "img_data=[]\n",
    "imageId=pd.read_csv(\"./POKE DEX SVM/train.csv\").values[:,0]\n",
    "for img in imageId:\n",
    "    img = image.load_img(str(p)+'/'+img, target_size =(32, 32))\n",
    "    img_data.append(image.img_to_array(img))    \n",
    "\n"
   ]
  },
  {
   "cell_type": "code",
   "execution_count": 54,
   "metadata": {
    "scrolled": false
   },
   "outputs": [
    {
     "name": "stdout",
     "output_type": "stream",
     "text": [
      "304\n"
     ]
    }
   ],
   "source": [
    "print(len(img_data))\n",
    "\n",
    "img_data=np.array(img_data)/255.0\n",
    "#print(img_data)\n"
   ]
  },
  {
   "cell_type": "code",
   "execution_count": 55,
   "metadata": {},
   "outputs": [
    {
     "name": "stdout",
     "output_type": "stream",
     "text": [
      "304\n"
     ]
    }
   ],
   "source": [
    "\n",
    "\n",
    "labels=pd.read_csv(\"./POKE DEX SVM/train.csv\").values[:,-1]\n",
    "labels=np.array(labels)\n",
    "\n",
    "labels[labels=='Pikachu'] = 0\n",
    "labels[labels=='Bulbasaur'] = 1\n",
    "labels[labels=='Charmander'] = 2\n",
    "print(len(labels))"
   ]
  },
  {
   "cell_type": "code",
   "execution_count": 56,
   "metadata": {},
   "outputs": [],
   "source": [
    "import random\n",
    "combined=list(zip(img_data,labels))\n",
    "random.shuffle(combined)\n",
    "img_data[:],labels[:]=zip(*combined)"
   ]
  },
  {
   "cell_type": "code",
   "execution_count": 57,
   "metadata": {},
   "outputs": [],
   "source": [
    "def drawimages(image):\n",
    "    plt.imshow(image)\n",
    "    plt.show()\n",
    "    return\n",
    "    "
   ]
  },
  {
   "cell_type": "code",
   "execution_count": 58,
   "metadata": {},
   "outputs": [
    {
     "data": {
      "image/png": "[encoded data removed]",
      "text/plain": [
       "<Figure size 432x288 with 1 Axes>"
      ]
     },
     "metadata": {
      "needs_background": "light"
     },
     "output_type": "display_data"
    }
   ],
   "source": [
    "drawimages(img_data[0])"
   ]
  },
  {
   "cell_type": "code",
   "execution_count": 59,
   "metadata": {},
   "outputs": [],
   "source": [
    "samples = img_data.shape[0]\n",
    "img_data = img_data.reshape((samples, -1))"
   ]
  },
  {
   "cell_type": "code",
   "execution_count": 60,
   "metadata": {},
   "outputs": [
    {
     "name": "stdout",
     "output_type": "stream",
     "text": [
      "(304, 3072)\n",
      "(304,)\n",
      "<class 'numpy.ndarray'>\n"
     ]
    }
   ],
   "source": [
    "\n",
    "print(img_data.shape)\n",
    "print(labels.shape)\n",
    "print(type(labels))"
   ]
  },
  {
   "cell_type": "code",
   "execution_count": 61,
   "metadata": {},
   "outputs": [],
   "source": [
    "class SVM:\n",
    "    def __init__(self,C):\n",
    "        self.w=0\n",
    "        self.b=0\n",
    "        self.C=C\n",
    "    def hingeloss(self,x,y,w,b):\n",
    "        loss=0.0\n",
    "        loss+=0.5 * np.dot(w,w.T)\n",
    "        m=x.shape[0]\n",
    "        for i in range(m):\n",
    "            ti=y[i]*(np.dot(w,x[i].T)+b)\n",
    "            loss+=self.C*max(0,(1-ti))\n",
    "        return loss[0][0]\n",
    "    def fit(self,x,y,learning_rate=0.000001,batch_size=100,max_steps=1000):\n",
    "        m,n=x.shape\n",
    "        w=np.zeros((1,n))\n",
    "        b=0\n",
    "        losses=[]\n",
    "        for i in range(max_steps):\n",
    "            l=self.hingeloss(x,y,w,b)\n",
    "            losses.append(l)\n",
    "            \n",
    "            ids=np.arange(m)\n",
    "            np.random.shuffle(ids)\n",
    "            \n",
    "            for batch_start in range(0,m):\n",
    "                gradw=0\n",
    "                gradb=0\n",
    "                for j in range(batch_start,batch_start+batch_size):\n",
    "                    if j<m:\n",
    "                        i=ids[j]\n",
    "                        ti=y[i]*(np.dot(w,x[i].T)+b)\n",
    "                        if ti>1:\n",
    "                            gradw += 0\n",
    "                            gradb += 0\n",
    "                        else:\n",
    "                            gradw+=self.C*y[i]*x[i]\n",
    "                            gradb+=self.C*y[i]\n",
    "                w=w-learning_rate * w + learning_rate * gradw\n",
    "                b=b+learning_rate * gradb\n",
    "        self.b=b\n",
    "        self.w=w\n",
    "        return w,b,losses\n",
    "        "
   ]
  },
  {
   "cell_type": "code",
   "execution_count": 62,
   "metadata": {},
   "outputs": [],
   "source": [
    "#myself=SVM(C=1.0)\n",
    "\n",
    "#w,b,loss=myself.fit(img_data,labels)\n",
    "#print(w,b)\n"
   ]
  },
  {
   "cell_type": "code",
   "execution_count": 63,
   "metadata": {},
   "outputs": [
    {
     "name": "stdout",
     "output_type": "stream",
     "text": [
      "3\n"
     ]
    }
   ],
   "source": [
    "classes=len(np.unique(labels))\n",
    "print(classes)"
   ]
  },
  {
   "cell_type": "code",
   "execution_count": 64,
   "metadata": {},
   "outputs": [],
   "source": [
    "def class_wise_data(x,y):\n",
    "    data = {}\n",
    "    \n",
    "    for i in range(classes):\n",
    "        data[i] = []\n",
    "        \n",
    "    for i in range(x.shape[0]):\n",
    "        data[y[i]].append(x[i])\n",
    "    \n",
    "    for k in data.keys():\n",
    "        data[k] = np.array(data[k])\n",
    "        \n",
    "    return data\n",
    "\n",
    "    "
   ]
  },
  {
   "cell_type": "code",
   "execution_count": 65,
   "metadata": {},
   "outputs": [],
   "source": [
    "data=class_wise_data(img_data,labels)\n",
    "#print(data)\n",
    "\n",
    "    "
   ]
  },
  {
   "cell_type": "code",
   "execution_count": 66,
   "metadata": {},
   "outputs": [],
   "source": [
    "def getDataPairsFromSVM(d1,d2):\n",
    "    l1,l2=d1.shape[0],d2.shape[0]\n",
    "    samples=l1+l2\n",
    "    features=d1.shape[1]\n",
    "    data_pairs=np.zeros((samples,features))\n",
    "    data_labels=np.zeros((samples,))\n",
    "    data_pairs[:l1,:]=d1\n",
    "    data_pairs[l1:,:]=d2\n",
    "    data_labels[:l1]=-1\n",
    "    data_labels[l1:]=1\n",
    "    return data_pairs,data_labels\n",
    "def trainSVMs(x,y):\n",
    "    svm_classifiers={}\n",
    "    for i in range(classes):\n",
    "        svm_classifiers[i]={}\n",
    "        for j in range(i+1,classes):\n",
    "            xi,yi=getDataPairsFromSVM(data[i],data[j])\n",
    "            wts,b,loss=myself.fit(xi,yi)\n",
    "            svm_classifiers[i][j]=(wts,b)\n",
    "            plt.plot(loss)\n",
    "            plt.show()\n",
    "    return svm_classifiers "
   ]
  },
  {
   "cell_type": "code",
   "execution_count": 67,
   "metadata": {},
   "outputs": [
    {
     "data": {
      "image/png": "[encoded data removed]",
      "text/plain": [
       "<Figure size 432x288 with 1 Axes>"
      ]
     },
     "metadata": {
      "needs_background": "light"
     },
     "output_type": "display_data"
    },
    {
     "data": {
      "image/png": "[encoded data removed]",
      "text/plain": [
       "<Figure size 432x288 with 1 Axes>"
      ]
     },
     "metadata": {
      "needs_background": "light"
     },
     "output_type": "display_data"
    },
    {
     "data": {
      "image/png": "[encoded data removed]",
      "text/plain": [
       "<Figure size 432x288 with 1 Axes>"
      ]
     },
     "metadata": {
      "needs_background": "light"
     },
     "output_type": "display_data"
    }
   ],
   "source": [
    "mySVM=SVM(C=5.0)\n",
    "svm_classifiers = trainSVMs(img_data,labels)\n",
    "#print(svm_classifiers)"
   ]
  },
  {
   "cell_type": "code",
   "execution_count": 68,
   "metadata": {},
   "outputs": [],
   "source": [
    "def binaryPredict(x,w,b):\n",
    "    z=np.dot(x,w.T)+b\n",
    "    if z>=0:\n",
    "        return 1\n",
    "    else:\n",
    "        return -1\n",
    "def predict(x):\n",
    "    count=np.zeros((classes,))\n",
    "    for i in range(classes):\n",
    "        for j in range(i+1,classes):\n",
    "            w,b=svm_classifiers[i][j]\n",
    "            z=binaryPredict(x,w,b)\n",
    "            if z==1:\n",
    "                count[j]+=1\n",
    "            else:\n",
    "                count[i]+=1\n",
    "    final_pred=np.argmax(count)\n",
    "    return final_pred"
   ]
  },
  {
   "cell_type": "code",
   "execution_count": 69,
   "metadata": {},
   "outputs": [
    {
     "name": "stdout",
     "output_type": "stream",
     "text": [
      "123\n"
     ]
    }
   ],
   "source": [
    "p=Path(\"./POKE DEX SVM/Images\")\n",
    "img_data_test=[]\n",
    "imageId=pd.read_csv(\"./POKE DEX SVM/test.csv\").values[:,0]\n",
    "\n",
    "#print(imageId)\n",
    "for imgtest in imageId:\n",
    "    imgtest = image.load_img(str(p)+'/'+imgtest, target_size =(32, 32))\n",
    "    img_data_test.append(image.img_to_array(imgtest))    \n",
    "\n",
    "print(len(img_data_test))\n",
    "img_data_test=np.array(img_data_test)/255.0   \n",
    "samplestest=img_data_test.shape[0]\n",
    "img_data_test=img_data_test.reshape((samplestest,-1))\n",
    "    "
   ]
  },
  {
   "cell_type": "code",
   "execution_count": 70,
   "metadata": {},
   "outputs": [],
   "source": [
    "ytest=[predict(i) for i in img_data_test]\n",
    "ytestnew=[]\n",
    "for i in ytest:\n",
    "    if i==0:\n",
    "        ytestnew.append(\"Pikachu\")\n",
    "    if i==1:\n",
    "        ytestnew.append(\"Bulbasaur\")\n",
    "    if i==2:\n",
    "        ytestnew.append(\"Charmander\")\n",
    "ytestnew=np.array(ytestnew)\n",
    "final=np.column_stack((imageId,ytestnew))\n",
    "df=pd.DataFrame(final,columns=['ImageId','NameOfPokemon'])\n",
    "df.head()\n",
    "df.to_csv('pokedexoutput.csv',index=False)\n"
   ]
  },
  {
   "cell_type": "code",
   "execution_count": null,
   "metadata": {},
   "outputs": [],
   "source": []
  },
  {
   "cell_type": "code",
   "execution_count": null,
   "metadata": {},
   "outputs": [],
   "source": []
  }
 ],
 "metadata": {
  "kernelspec": {
   "display_name": "Python 3",
   "language": "python",
   "name": "python3"
  },
  "language_info": {
   "codemirror_mode": {
    "name": "ipython",
    "version": 3
   },
   "file_extension": ".py",
   "mimetype": "text/x-python",
   "name": "python",
   "nbconvert_exporter": "python",
   "pygments_lexer": "ipython3",
   "version": "3.8.3"
  }
 },
 "nbformat": 4,
 "nbformat_minor": 4
}
